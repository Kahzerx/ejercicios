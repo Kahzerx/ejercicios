{
 "cells": [
  {
   "cell_type": "markdown",
   "metadata": {},
   "source": [
    "## Condicionales\n",
    "---\n",
    "\n",
    "Se pueden usar condicionales para decidir que comandos ejecutar. Escribir `if` seguido de la condición entre corchetes `[ ]`, posteriormente `then` para marcar que se va a ejecutar cuando se cumpla la condicion, `else` se inicia si la condición del if no se ha cumplido. Para finalizar se debe cerrar el condicional con un `fi`.\n",
    "\n",
    "Nótese ambos espacios antes de `$index` y después del `5` en la condición."
   ]
  },
  {
   "cell_type": "code",
   "execution_count": 12,
   "metadata": {},
   "outputs": [
    {
     "name": "stdout",
     "output_type": "stream",
     "text": [
      "3\n"
     ]
    }
   ],
   "source": [
    "index=3\n",
    "if [ $index -lt 5 ]\n",
    "then\n",
    "    echo $index\n",
    "else\n",
    "    echo 5\n",
    "fi"
   ]
  },
  {
   "cell_type": "markdown",
   "metadata": {},
   "source": [
    "Si no se colocan los espacios correspondientes la aplicación devuelve una excepción, por lo que la condición no se cumple, entra en el `else` y devuelve `5`. (WUT?)."
   ]
  },
  {
   "cell_type": "code",
   "execution_count": 10,
   "metadata": {},
   "outputs": [
    {
     "name": "stdout",
     "output_type": "stream",
     "text": [
      "bash: [3: command not found\n",
      "5\n"
     ]
    }
   ],
   "source": [
    "index=3\n",
    "if [$index -lt 5 ]\n",
    "then\n",
    "    echo $index\n",
    "else\n",
    "    echo 5\n",
    "fi"
   ]
  },
  {
   "cell_type": "markdown",
   "metadata": {},
   "source": [
    "En este ejemplo si la condicion de index es menor que 5 (`-lt` es un operador para comparación que significa \"less than\") printee el número de nuestra variable, por el contrario, si nuestro index es superior a 5, entrará en el else y se printeará el valor \"5\".\n",
    "\n",
    "Aqui hay una lista de operadores para números que se pueden usar en scripts Bash.\n",
    "\n",
    "    - Equal: -eq\n",
    "    - Not equal: -ne\n",
    "    - Less than or equal: -le\n",
    "    - Less than: -lt\n",
    "    - Greater than or equal: -ge\n",
    "    - Greater than: -gt\n",
    "    - Is null: -z\n",
    "    \n",
    "En el caso de comparar `strings`, es buena práctica colocar la variable entre `\"`, esto previene errores si la variable es `null` o contiene espacios, los operadores comunes para comparar `strings` son:\n",
    "\n",
    "    - Equal: ==\n",
    "    - Not equal: !=\n",
    "    \n",
    "Por ejemplo, en este caso `foo` y `bar` contienen la misma `string`:"
   ]
  },
  {
   "cell_type": "code",
   "execution_count": null,
   "metadata": {},
   "outputs": [],
   "source": [
    "if [ \"$foo\" == \"$bar\" ]"
   ]
  }
 ],
 "metadata": {
  "kernelspec": {
   "display_name": "Bash",
   "language": "bash",
   "name": "bash"
  },
  "language_info": {
   "codemirror_mode": "shell",
   "file_extension": ".sh",
   "mimetype": "text/x-sh",
   "name": "bash"
  }
 },
 "nbformat": 4,
 "nbformat_minor": 4
}
