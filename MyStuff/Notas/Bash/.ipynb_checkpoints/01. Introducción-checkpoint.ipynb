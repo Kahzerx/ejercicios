{
 "cells": [
  {
   "cell_type": "markdown",
   "metadata": {},
   "source": [
    "# Bash\n",
    "---\n",
    "\n",
    "Puede que necesites instalar lo siguiente para que los ejercicios de este notebook funcionen.\n",
    "```\n",
    "pip install ipykernel\n",
    "pip install bash_kernel\n",
    "python -m bash_kernel.install\n",
    "```\n",
    "\n",
    "Bash (o shell) es una gran forma de automatizar tareas repetitivas que te puede ayudar mucho a optimizar tiempo como desarrollador, los scripts Bash se ejecutan en un intérprete de Bash en la terminal, todo comando que puedas ejecutar en la terminal, puede ser ejecutado por un script Bash.\n",
    "\n",
    "Hay ciertas convenciones a seguir para que tu ordenador sea capaz de encontrar y ejecutar los scripts Bash, al principio, en el archivo, has de escribir `#!/bin/bash`, esto avisa al ordenador que tipo de interprete ha de usar para este script. Al guardar es una buena práctica guardarlo dentro del directorio en el que se encuentran los scripts más usados en el directorio `~/bin/`.\n",
    "\n",
    "También necesitan tener permiso para ejecutarse, para ello debemos ejecutar el comando `chmod +x script.sh` para añadir esta propiedad.\n",
    "\n",
    "Tu terminal ejecuta un archivo cada vez que se abre para ejecutar la configuración, en linux es `~/.bashrc`, para estar seguro que los scripts en `~/bin/` estan disponibles, deberás añadir la `PATH` a dicho archivo de configuración: `PATH=~/bin:$PATH`\n",
    "\n",
    "A partir de ahora cualquier script en el directorio `~/bin/` se puede ejecutar desde donde quieras simplemente escribiendo el nombre del script."
   ]
  },
  {
   "cell_type": "code",
   "execution_count": 1,
   "metadata": {},
   "outputs": [
    {
     "name": "stdout",
     "output_type": "stream",
     "text": [
      "Hola Mundo!\n"
     ]
    }
   ],
   "source": [
    "#!/bin/bash\n",
    "echo \"Hola Mundo!\""
   ]
  }
 ],
 "metadata": {
  "kernelspec": {
   "display_name": "Bash",
   "language": "bash",
   "name": "bash"
  },
  "language_info": {
   "codemirror_mode": "shell",
   "file_extension": ".sh",
   "mimetype": "text/x-sh",
   "name": "bash"
  }
 },
 "nbformat": 4,
 "nbformat_minor": 4
}
