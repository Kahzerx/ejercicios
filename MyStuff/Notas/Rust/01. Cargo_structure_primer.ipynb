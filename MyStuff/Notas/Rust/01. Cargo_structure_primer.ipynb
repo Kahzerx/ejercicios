{
 "cells": [
  {
   "cell_type": "markdown",
   "metadata": {},
   "source": [
    "# Rust\n",
    "---\n",
    "\n",
    "Rust es un lenguaje de programación que intenta mejorar la experiencia de programar en C++. En Rust no es necesario manipular memoria directamente y consigue que nunca accedas a memoria que sea invalida, por lo que un programa no puede dar `segmentation Fault` gracias a que el compilador no lo va a permitir y cancelará la ejecución de dicho programa.\n",
    "\n",
    "\n",
    "## Introducción\n",
    "---\n",
    "\n",
    "Estos son los apuntes de Rust :D.\n",
    "\n",
    "Para poder ejecutar los comandos desde el navegador puede que necesites usar estos comandos:\n",
    "\n",
    "```\n",
    "cargo install evcxr_jupyter\n",
    "export PATH=\"$HOME/.cargo/bin:$PATH\"\n",
    "evcxr_jupyter --install\n",
    "```\n",
    "\n",
    "## Instalación y comandos básicos\n",
    "---\n",
    "\n",
    "Para instalar ir al siguiente link:\n",
    "\n",
    "    - https://www.rust-lang.org/tools/install\n",
    "\n",
    "Comandos básicos para ejecutar Rust:\n",
    "\n",
    "    - rustc -> compilar un programa.rs\n",
    "    - cargo init -> iniciar un proyecto cargo\n",
    "    - cargo run -> compilar y ejecutar un proyecto cargo\n",
    "\n",
    "### Cargo\n",
    "---\n",
    "\n",
    "Un proyecto cargo debe iniciar en minúsculas y no debe empezar por números, en la carpeta en la que se quiere empezar el proyecto y escribir el comando `cargo init`, se creará con el nombre de la carpeta en la que te encuentras, para iniciar un proyecto cargo con un nombre distinto el comando es `cargo ini --name idk`.\n",
    "\n",
    "Una vez creado podemos ver la distribución de los archivos del proyecto:\n",
    "\n",
    "    + Cargo.toml: Almacena metadatos asi como un apartado para alamcenar las dependencias que utilizará nuestro proyecto, Rust cuenta con un amplio repositorio: https://crates.io/.\n",
    "\n",
    "    + src/: En este directorio se encuentra el codigo de nuestro proyecto, al compilar cargo se dirigirá a esa carpeta y buscará el archivo llamado main.rs y ejecutará la fn main() {...}.\n",
    "    \n",
    "### Estructura\n",
    "---\n",
    "\n",
    "La estructura que nos encontramos por defecto en el main es la siguiente:"
   ]
  },
  {
   "cell_type": "raw",
   "metadata": {},
   "source": [
    "fn main() {\n",
    "    println!(\"Hello, world!\");\n",
    "}"
   ]
  },
  {
   "cell_type": "markdown",
   "metadata": {},
   "source": [
    "Al escribir el comando `cargo run` el compilador tratará de instalar las dependencias en el `Cargo.toml` si no han sido instaladas previamente y posteriormente ejecutar el contenido del main, que en este caso dice `Hello, world!` por consola."
   ]
  },
  {
   "cell_type": "code",
   "execution_count": 4,
   "metadata": {},
   "outputs": [
    {
     "name": "stdout",
     "output_type": "stream",
     "text": [
      "Hello, world!\n"
     ]
    }
   ],
   "source": [
    "println!(\"Hello, world!\");"
   ]
  }
 ],
 "metadata": {
  "kernelspec": {
   "display_name": "Rust",
   "language": "rust",
   "name": "rust"
  },
  "language_info": {
   "codemirror_mode": "rust",
   "file_extension": ".rs",
   "mimetype": "text/rust",
   "name": "Rust",
   "pygment_lexer": "rust",
   "version": ""
  }
 },
 "nbformat": 4,
 "nbformat_minor": 4
}
