{
 "cells": [
  {
   "cell_type": "markdown",
   "metadata": {},
   "source": [
    "## Variables\n",
    "---\n",
    "\n",
    "Rust tiene los siguientes tipos:\n",
    "\n",
    "### Unsigned\n",
    "    - u8: 0 a 2^8 – 1 (0 a 255)\n",
    "    - u16: 0 a 2^16 – 1 (0 a 65,535)\n",
    "    - u32: 0 a 2^32 – 1 (0 a 4,294,967,295)\n",
    "    - u64: 0 a 2^64 – 1 (0 a 18,446,744,073,709,551,615, o 18 quintillones)\n",
    "    - u128: 0 a 2^128 – 1 (0 a alrededor de 3.4✕10^38)\n",
    "    - usize: 0 a 2^32 - 1 o 2^64 - 1\n",
    "    \n",
    "### Signed\n",
    "    - i8: −2^7 a 2^7 − 1 (−128 a 127)\n",
    "    - i16: −2^15 a 2^15 − 1 (−32,768 a 32,767)\n",
    "    - i32: −2^31 a 2^31 − 1 (−2,147,483,648 a 2,147,483,647)\n",
    "    - i64: −2^63 a 2^63 − 1 (−9,223,372,036,854,775,808 a 9,223,372,036,854,775,807)\n",
    "    - i128: −2^127 a 2^127 − 1 (aproximadamente -1.7✕10^38 a +1.7✕10^38)\n",
    "    - isize: −2^31 a 2^31 − 1, o de −263 a 263 − 1\n",
    "\n",
    "### Floating Point\n",
    "    - f32: (suficiente para almacenar de 6 a 7 decimales) –3.4×10^38 a +3.4×10^38\n",
    "    - f64: (Suficiente para almacenar hasta 15 decimales) –1.8×10^308 a + 1.8×10^308\n",
    "\n",
    "### Boolean\n",
    "    - bool: Puede ser true o false\n",
    "\n",
    "### Character\n",
    "    - char: Usado para almacenar 1 caracter\n",
    "\n",
    "\n",
    "\n",
    "Las variables se declaran con un prefijo `let` seguido del nombre de la variable, opcionalmente se puede añadir `: <T>` especificando el tipo, a continuación el valor que tendrá dicha variable.\n",
    "\n",
    "Si no se especifica un tipo, Rust asignará el tipo que crea conveniente. Si se declara una variable que no se usa nunca, el compilador notificará al usuario con un **Warning**, si esto es a propósito, se debe colocar una `_` como prefijo del nombre de la variable si se quiere evitar dicho **Warning**.\n",
    "\n",
    "También puedes modificar el tipo de dicha variable."
   ]
  },
  {
   "cell_type": "code",
   "execution_count": 6,
   "metadata": {},
   "outputs": [
    {
     "name": "stdout",
     "output_type": "stream",
     "text": [
      "a = 5 | b = 10\n",
      "a = 3.5 | b = 10\n"
     ]
    }
   ],
   "source": [
    "let a: i32 = 5;\n",
    "let b = 10;\n",
    "let _c = 20;\n",
    "println!(\"a = {} | b = {}\", a, b);\n",
    "\n",
    "let a: f32 = 3.5;\n",
    "println!(\"a = {} | b = {}\", a, b);"
   ]
  }
 ],
 "metadata": {
  "kernelspec": {
   "display_name": "Rust",
   "language": "rust",
   "name": "rust"
  },
  "language_info": {
   "codemirror_mode": "rust",
   "file_extension": ".rs",
   "mimetype": "text/rust",
   "name": "Rust",
   "pygment_lexer": "rust",
   "version": ""
  }
 },
 "nbformat": 4,
 "nbformat_minor": 4
}
