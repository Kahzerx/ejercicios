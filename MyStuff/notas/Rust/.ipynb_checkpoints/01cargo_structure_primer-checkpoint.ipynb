{
 "cells": [
  {
   "cell_type": "markdown",
   "metadata": {},
   "source": [
    "# Rust\n",
    "---\n",
    "\n",
    "Rust es un lenguaje de programación que intenta mejorar la experiencia de programar en C++. En Rust no es necesario manipular memoria directamente y consigue que nunca accedas a memoria que sea invalida, por lo que un programa no puede dar `segmentation Fault` gracias a que el compilador no lo va a permitir y cancelará la ejecución de dicho programa.\n",
    "\n",
    "\n",
    "## Introducción\n",
    "---\n",
    "\n",
    "Estos son los apuntes de Rust :D.\n",
    "\n",
    "Para poder ejecutar los comandos desde el navegador puede que necesites usar estos comandos:\n",
    "\n",
    "```\n",
    "cargo install evcxr_jupyter\n",
    "evcxr_jupyter --install\n",
    "```\n",
    "\n",
    "## Instalación y comandos básicos\n",
    "---\n",
    "\n",
    "Para instalar ir al siguiente link:\n",
    "\n",
    "    - https://www.rust-lang.org/tools/install\n",
    "\n",
    "Comandos básicos para ejecutar Rust:\n",
    "\n",
    "    - rustc -> compilar un programa.rs\n",
    "    - cargo init -> iniciar un proyecto cargo\n",
    "    - cargo run -> compilar y ejecutar un proyecto cargo\n"
   ]
  },
  {
   "cell_type": "code",
   "execution_count": null,
   "metadata": {},
   "outputs": [],
   "source": [
    "println!(\"Hola Mundo!\");"
   ]
  }
 ],
 "metadata": {
  "kernelspec": {
   "display_name": "Rust",
   "language": "rust",
   "name": "rust"
  },
  "language_info": {
   "codemirror_mode": "rust",
   "file_extension": ".rs",
   "mimetype": "text/rust",
   "name": "Rust",
   "pygment_lexer": "rust",
   "version": ""
  }
 },
 "nbformat": 4,
 "nbformat_minor": 4
}
